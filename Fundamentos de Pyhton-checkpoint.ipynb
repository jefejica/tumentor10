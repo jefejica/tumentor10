{
 "cells": [
  {
   "cell_type": "markdown",
   "metadata": {
    "ExecuteTime": {
     "end_time": "2020-04-20T15:06:22.919607Z",
     "start_time": "2020-04-20T15:06:22.914654Z"
    }
   },
   "source": [
    "Fuente: https://www.youtube.com/watch?v=f6rldx9Jzbo&list=PL2PZw96yQChwNxk7f8stySXf7Cic8oQk8&index=12"
   ]
  },
  {
   "cell_type": "markdown",
   "metadata": {},
   "source": [
    "# Uso Básico de la Función print"
   ]
  },
  {
   "cell_type": "code",
   "execution_count": 1,
   "metadata": {
    "ExecuteTime": {
     "end_time": "2020-04-28T15:54:55.580810Z",
     "start_time": "2020-04-28T15:54:55.562829Z"
    }
   },
   "outputs": [
    {
     "name": "stdout",
     "output_type": "stream",
     "text": [
      "Este es un Ejemplo basico\n",
      "Este es un Ejemplo basico  Este es un Ejemplo basico \n",
      "Este es un Ejemplo basico\n",
      "pyhton-es-tremendo\n",
      "pyhton es Tremendo\n",
      "{'Colombia': 'Bogota', 'Peru': 'lima'}\n",
      "Hola\n",
      "Hoal\n",
      "Como estas\n",
      "1\n",
      "2\n",
      "3\n",
      "4\n",
      "5\n",
      "6\n",
      "7\n",
      "8\n",
      "9\n",
      "10\n",
      "El numero 2 es mayor que el numero 1\n",
      "Aprendiendo Pyhton\n",
      "4\n",
      "9\n",
      "90\n"
     ]
    }
   ],
   "source": [
    "print(\"Este es un Ejemplo basico\")\n",
    "print(\"Este es un Ejemplo basico\",end=\"  \") #Separa por una Espacio\n",
    "print(\"Este es un Ejemplo basico\",end=\" \")\n",
    "print()\n",
    "print(\"Este es un Ejemplo basico\")\n",
    "print(\"pyhton\", \"es\", \"tremendo\", sep='-')\n",
    "#{} PlaceHoltder:\n",
    "print('{} es {}'.format('pyhton','Tremendo'))\n",
    "capitales={'Colombia':'Bogota','Peru':'lima'}\n",
    "print(capitales)\n",
    "\n",
    "\n",
    "#FECHA: 04/03/2020\n",
    "#CASE SENSTITIVE: Entiende entre minusculas y mayusculas\n",
    "#LOWER() Minusculas\n",
    "#UPPER() Mayusculas\n",
    "#print(\"Hola\", end=\"\") #imprimir todo en una LINEA\n",
    "#---------------------------------------\n",
    "print(\"Hola\")\n",
    "print(\"Hoal\");print(\"Como estas\")\n",
    "mi_nombre=\"mi_nombre es\\\n",
    "jefersson\"\n",
    "mi_nombre\n",
    "#---------------------------------------\n",
    "a=0\n",
    "for i in range(10):\n",
    "\ta+=1\n",
    "\tprint(a)\n",
    "n1=2\n",
    "n2=3\n",
    "if n1>n2:\n",
    "\tprint(\"El numero 1 es mayor que el numero 2\")\n",
    "else:\n",
    "\tprint(\"El numero 2 es mayor que el numero 1\")\n",
    "#---------------------------------------\n",
    "\t#FUNCIONES:\n",
    "\n",
    "def mensajes():\n",
    "\tprint(\"Aprendiendo Pyhton\")\n",
    "mensajes()\n",
    "\n",
    "def sum():\n",
    "\tnumero1=1\n",
    "\tnumero2=3\n",
    "\tprint(numero1+numero2)\n",
    "sum()\n",
    "\n",
    "def suma(valor1,valor2):\n",
    "\tprint(valor1+valor2)\n",
    "suma(4,5)\n",
    "\n",
    "\n",
    "def sumar(num1,num2):\n",
    "\tresultado=num1*num2\n",
    "\treturn resultado \n",
    "#print(suma(4,5))\n",
    "almacena_resultado=sumar(45,2)\n",
    "print(almacena_resultado)\n"
   ]
  },
  {
   "cell_type": "markdown",
   "metadata": {},
   "source": [
    "# Obtener la Fecha y Hora Actuales del Sistema con el Módulo datetime"
   ]
  },
  {
   "cell_type": "code",
   "execution_count": 2,
   "metadata": {
    "ExecuteTime": {
     "end_time": "2020-04-28T15:54:55.593749Z",
     "start_time": "2020-04-28T15:54:55.582775Z"
    }
   },
   "outputs": [
    {
     "name": "stdout",
     "output_type": "stream",
     "text": [
      "2020-04-28 10:54:55.589757\n",
      "<class 'datetime.datetime'>\n",
      "28/04/2020 10:54:55\n"
     ]
    }
   ],
   "source": [
    "import datetime\n",
    "ahora=datetime.datetime.now()\n",
    "print(ahora)\n",
    "print(type(ahora)) #Es un objeto\n",
    "print(ahora.strftime('%d/%m/%Y %H:%M:%S')) #Formatear la hora\n"
   ]
  },
  {
   "cell_type": "markdown",
   "metadata": {},
   "source": [
    "# Solicitar el Valor del Radio de un Círculo para Calcular su Área"
   ]
  },
  {
   "cell_type": "code",
   "execution_count": 3,
   "metadata": {
    "ExecuteTime": {
     "end_time": "2020-04-28T15:55:07.229072Z",
     "start_time": "2020-04-28T15:54:55.596737Z"
    }
   },
   "outputs": [
    {
     "name": "stdout",
     "output_type": "stream",
     "text": [
      "Ingresar el radio del circulo3\n",
      "El area del circulo es 18.84955592153876\n"
     ]
    }
   ],
   "source": [
    "from math import pi\n",
    "r = float(input('Ingresar el radio del circulo'))\n",
    "area= pi*r*2\n",
    "print('El area del circulo es {}'.format(area))"
   ]
  },
  {
   "cell_type": "markdown",
   "metadata": {},
   "source": [
    "#  Obtener la Representación Inversa de una Cadena de Caracteres"
   ]
  },
  {
   "cell_type": "code",
   "execution_count": 4,
   "metadata": {
    "ExecuteTime": {
     "end_time": "2020-04-28T15:55:07.237023Z",
     "start_time": "2020-04-28T15:55:07.231066Z"
    }
   },
   "outputs": [
    {
     "name": "stdout",
     "output_type": "stream",
     "text": [
      "nothyP\n",
      "nothyP\n"
     ]
    }
   ],
   "source": [
    "#Pyhton =>nothyP\n",
    "cadena='Pyhton'\n",
    "for i in range(len(cadena)-1,-1,-1): #En el tecer argumen el indexe va de 1 en 1\n",
    "    print(cadena[i],end=\"\")    \n",
    "print()\n",
    "print(cadena[::-1]) #Este es la mejor practica\n",
    "\n",
    "\n",
    "    "
   ]
  },
  {
   "cell_type": "markdown",
   "metadata": {},
   "source": [
    "# Obtener el Nombre de Extensión de un Nombre de Archivo"
   ]
  },
  {
   "cell_type": "code",
   "execution_count": 5,
   "metadata": {
    "ExecuteTime": {
     "end_time": "2020-04-28T15:55:11.254374Z",
     "start_time": "2020-04-28T15:55:07.240017Z"
    }
   },
   "outputs": [
    {
     "name": "stdout",
     "output_type": "stream",
     "text": [
      "Nombre del Archivo:  dsd.py\n",
      "['dsd', 'py']\n",
      "py\n"
     ]
    }
   ],
   "source": [
    "entrada=input(\"Nombre del Archivo:  \")\n",
    "# main.py\n",
    "parte_archivo=entrada.split('.') #metodo split para trabajar con caracteres.\n",
    "print(parte_archivo)\n",
    "print(parte_archivo[-1]) #Saber la Extensión."
   ]
  },
  {
   "cell_type": "markdown",
   "metadata": {},
   "source": [
    "# Obtener el Primer y Último Elemento de una Lista"
   ]
  },
  {
   "cell_type": "code",
   "execution_count": 6,
   "metadata": {
    "ExecuteTime": {
     "end_time": "2020-04-28T15:55:11.264307Z",
     "start_time": "2020-04-28T15:55:11.257352Z"
    }
   },
   "outputs": [
    {
     "name": "stdout",
     "output_type": "stream",
     "text": [
      "Python\n",
      "JavaScript\n"
     ]
    }
   ],
   "source": [
    "lista=['Python','C#','PHP','Java','JavaScript']\n",
    "primer=lista[0]\n",
    "ultimo=lista[len(lista)-1] #Calcule la cantidad de elementos y restele 1\n",
    "print(primer)\n",
    "print(ultimo)\n"
   ]
  },
  {
   "cell_type": "markdown",
   "metadata": {},
   "source": [
    "# Obtener la Documentación de Funciones Incorporadas"
   ]
  },
  {
   "cell_type": "code",
   "execution_count": 7,
   "metadata": {
    "ExecuteTime": {
     "end_time": "2020-04-28T15:55:11.369028Z",
     "start_time": "2020-04-28T15:55:11.266304Z"
    }
   },
   "outputs": [
    {
     "name": "stdout",
     "output_type": "stream",
     "text": [
      "Return the absolute value of the argument.\n",
      "int([x]) -> integer\n",
      "int(x, base=10) -> integer\n",
      "\n",
      "Convert a number or string to an integer, or return 0 if no arguments\n",
      "are given.  If x is a number, return x.__int__().  For floating point\n",
      "numbers, this truncates towards zero.\n",
      "\n",
      "If x is not a number or if base is given, then x must be a string,\n",
      "bytes, or bytearray instance representing an integer literal in the\n",
      "given base.  The literal can be preceded by '+' or '-' and be surrounded\n",
      "by whitespace.  The base defaults to 10.  Valid bases are 0 and 2-36.\n",
      "Base 0 means to interpret the base from the string as an integer literal.\n",
      ">>> int('0b100', base=0)\n",
      "4\n",
      "--------------------------------------------------\n",
      "Return the sine of x (measured in radians).\n",
      "--------------------------------------------------\n"
     ]
    },
    {
     "ename": "AttributeError",
     "evalue": "module 'datetime' has no attribute 'now'",
     "output_type": "error",
     "traceback": [
      "\u001b[1;31m---------------------------------------------------------------------------\u001b[0m",
      "\u001b[1;31mAttributeError\u001b[0m                            Traceback (most recent call last)",
      "\u001b[1;32m<ipython-input-7-bd1ea3534f59>\u001b[0m in \u001b[0;36m<module>\u001b[1;34m\u001b[0m\n\u001b[0;32m      5\u001b[0m \u001b[0mprint\u001b[0m\u001b[1;33m(\u001b[0m\u001b[0msin\u001b[0m\u001b[1;33m.\u001b[0m\u001b[0m__doc__\u001b[0m\u001b[1;33m)\u001b[0m\u001b[1;33m\u001b[0m\u001b[1;33m\u001b[0m\u001b[0m\n\u001b[0;32m      6\u001b[0m \u001b[0mprint\u001b[0m\u001b[1;33m(\u001b[0m\u001b[1;34m'-'\u001b[0m\u001b[1;33m*\u001b[0m\u001b[1;36m50\u001b[0m\u001b[1;33m)\u001b[0m\u001b[1;33m\u001b[0m\u001b[1;33m\u001b[0m\u001b[0m\n\u001b[1;32m----> 7\u001b[1;33m \u001b[0mprint\u001b[0m\u001b[1;33m(\u001b[0m\u001b[0mdatetime\u001b[0m\u001b[1;33m.\u001b[0m\u001b[0mnow\u001b[0m\u001b[1;33m.\u001b[0m\u001b[0m__doc__\u001b[0m\u001b[1;33m)\u001b[0m\u001b[1;33m\u001b[0m\u001b[1;33m\u001b[0m\u001b[0m\n\u001b[0m",
      "\u001b[1;31mAttributeError\u001b[0m: module 'datetime' has no attribute 'now'"
     ]
    }
   ],
   "source": [
    "from math import sin\n",
    "print(abs.__doc__)\n",
    "print(int.__doc__)\n",
    "print('-'*50)\n",
    "print(sin.__doc__)\n",
    "print('-'*50)\n",
    "print(datetime.now.__doc__)"
   ]
  },
  {
   "cell_type": "markdown",
   "metadata": {},
   "source": [
    "# Imprimir el Calendario para un Año y Mes Específico"
   ]
  },
  {
   "cell_type": "code",
   "execution_count": null,
   "metadata": {
    "ExecuteTime": {
     "end_time": "2020-04-28T15:55:11.372032Z",
     "start_time": "2020-04-28T15:54:55.583Z"
    }
   },
   "outputs": [],
   "source": [
    "import calendar\n",
    "agnio=int(input(\"Ingresar el año: \"))\n",
    "mes=int(input(\"Ingresar el mes: \"))\n",
    "\n",
    "print(calendar.month(agnio, mes))"
   ]
  },
  {
   "cell_type": "markdown",
   "metadata": {},
   "source": [
    "# Tuplas"
   ]
  },
  {
   "cell_type": "code",
   "execution_count": null,
   "metadata": {
    "ExecuteTime": {
     "end_time": "2020-04-28T15:55:11.373017Z",
     "start_time": "2020-04-28T15:54:55.585Z"
    }
   },
   "outputs": [],
   "source": [
    "#04/03/2020\n",
    "#https://www.youtube.com/watch?v=Q8hugySbLQQ&list=PLU8oAlHdN5BlvPxziopYZRd55pdqFwkeS&index=7\n",
    "milista=[\"Maria\",\"Pepe\",\"Marta\",\"Antonio\"]\n",
    "#Imprimir todos los elementos\n",
    "print(milista[:])\n",
    "print(milista[2])#Indice 2\n",
    "print(milista[-1])#Cuenta desde el FINAL\n",
    "print(milista[0:3])\n",
    "print(milista[2:])#Desde hasta\n",
    "#Para agregar elementos a la lista\n",
    "milista.append(\"Jefersson\")\n",
    "print(milista[:])\n",
    "#Agregar en un punto intermedio\n",
    "milista.insert(2,\"Yadiles\")#En el indice 2\n",
    "print(milista[:])\n",
    "#Agregar varios elemtneos a una lista\n",
    "milista.extend([\"Lucia\",\"Armando\"])\n",
    "print(milista[:])\n",
    "#Devolver el Indice de una Lista\n",
    "print(milista.index(\"Maria\"))\n",
    "#Si en una Lista pueden haber elementos iguales\n",
    "print(milista.index(\"Maria\"))\n",
    "#vALIDAR si un elemento se encuentra en una lista\n",
    "print(\"Pepe\" in milista)\n",
    "#Eliminar un elemento de la lista\n",
    "milista.remove(\"Antonio\")\n",
    "print(milista[:])\n",
    "#Elimna el ultimo elemento de una lista\n",
    "milista.pop()\n",
    "print(milista[:])\n",
    "\n",
    "#Unificar las listas con el operados SUMA\n",
    "milista2=[\"Karina\",\"Lorena\"]\n",
    "milista3=milista+milista2\n",
    "print(milista3[:])\n",
    "\n",
    "#imprimir varias veces\n",
    "milista4=[\"YY\",\"AA\"]*3\n",
    "print(milista4[:])\n",
    "\n",
    "#TUPLAS------------------------------------------------------------------------\n",
    "#Son lista inmutables, no se pueden modificar despues de creación\n",
    "#Mas rapida, menos espacios,Formatean String, Pueden utilizarse como claves en un diccionario\n",
    "#Las tuplas llevan parentesis\n",
    "mitupla=(\"Jefer\",25,1995,25)\n",
    "#Acceder a elementos\n",
    "print(mitupla[2])\n",
    "#Convertir una tupla en una LISTA\n",
    "milista2=list(mitupla)\n",
    "print(milista2)\n",
    "#Convertir una lista en tupla\n",
    "#Metodo tuple =  mituple=tuple(milista)\n",
    "print(\"Jefer\" in milista2)\n",
    "#Cuantos elementos se encuentra en una TUPLA\n",
    "print(milista2.count(25))\n",
    "#Averiguar la longuitud de la TUPLA\n",
    "print(len(milista2))\n",
    "\n",
    "#eMPAQUETADOS DE TUPLAS\n",
    "mitupla2=\"JEFER\",13,100,125\n",
    "print(mitupla2)\n",
    "\n",
    "#Desempaquetados de TUPLAS\n",
    "mitupla5=(\"juan\",26,03,1991)\n",
    "nombre,dia,mes,agno=mitupla5\n",
    "print(nombre)\n",
    "print(dia)\n",
    "print(mes)\n",
    "print(agno)\n"
   ]
  },
  {
   "cell_type": "markdown",
   "metadata": {},
   "source": [
    "# Diccionarios"
   ]
  },
  {
   "cell_type": "code",
   "execution_count": null,
   "metadata": {
    "ExecuteTime": {
     "end_time": "2020-04-28T15:55:11.374020Z",
     "start_time": "2020-04-28T15:54:55.589Z"
    }
   },
   "outputs": [],
   "source": [
    "#Diccionario STRING\n",
    "midiccionario={\"Alemania\":\"Berlin\",\"Francia\":\"Paris\",\"Reino Unido\":\"Londres\",\"España\":\"Madrid\"}\n",
    "midiccionario[\"italia\"]=\"Lisboa\"\n",
    "print(midiccionario[\"Francia\"])\n",
    "#Agregar un nuevo valor\n",
    "midiccionario[\"italia\"]=\"roma\"\n",
    "print(midiccionario)\n",
    "del midiccionario[\"Reino Unido\"]\n",
    "print (midiccionario)\n",
    "\n",
    "\n",
    "midiccionario2={\"Alemania\":\"Berlin\",23:\"Jordan\",\"Mosqueteros\":3}\n",
    "print(midiccionario2)\n",
    "\n",
    "mitupla=[\"España\",\"Francia\",\"Reino unido\",\"Alemania\"]\n",
    "midiccionario3={mitupla[0]:\"Madrid\",mitupla[1]:\"paris\",mitupla[2]:\"londre\",mitupla[3]:\"berlin\",}\n",
    "print(midiccionario3)\n",
    "print(midiccionario3[\"Francia\"])\n",
    "\n",
    "\n",
    "midiccionario4={23:\"Jordan\",\"Nombew\":\"Jefersson\",\"anillos\":[1991,1992,1993,1996,1997,1998]}\n",
    "print(midiccionario4[\"anillos\"])\n"
   ]
  },
  {
   "cell_type": "markdown",
   "metadata": {},
   "source": [
    "# Condicionales"
   ]
  },
  {
   "cell_type": "code",
   "execution_count": null,
   "metadata": {
    "ExecuteTime": {
     "end_time": "2020-04-28T15:55:11.375011Z",
     "start_time": "2020-04-28T15:54:55.594Z"
    }
   },
   "outputs": [],
   "source": [
    "#IF\n",
    "print(\"Programa de evalaución de NOTA\")\n",
    "nota_alumno=input(\"Inroduce la nota: \")\n",
    "\n",
    "def evaluacion(nota):\n",
    "\tvaloracion=\"aprobado\"\n",
    "\tif nota<5:\n",
    "\t\tvaloracion=\"Supendido\"\n",
    "\treturn valoracion\n",
    "\n",
    "#Fundión esta preparada para recibir un valor.\n",
    "print(evaluacion(int(nota_alumno)))\n",
    "\n",
    "print(\"Verificacion de acceso\")\n",
    "\n",
    "\n",
    "#------------------------------------------------------------\n",
    "\n",
    "edad_usuario=int(input(\"Introduce tu edad, por favor\"))\n",
    "\n",
    "if edad_usuario<18:\n",
    "\tprint(\"No puede pasar\")\n",
    "elif edad_usuario>100:\n",
    "\tprint(\"Edad Incorrecta\")\n",
    "else:\n",
    "\tprint(\"Puedes pasar\")\n",
    "print(\"Programa Finalizado\")\n",
    "\n",
    "\n",
    "edad2=7\n",
    "\n",
    "if 0<edad2<100:\n",
    "\tprint(\"Correcto\")\n",
    "else:\n",
    "\tprint(\"Incorrecta\")\n",
    "\n",
    "\n",
    "\n",
    "#LOWER() Minusculas\n",
    "#UPPER() Mayusculas\n",
    "#------------------------------------------------------------\n",
    "print(\"2020\")\n",
    "print(\"ASIGNAURAS: Español, matematicas\")\n",
    "opcion=input(\"Escribe la asignatura: \")\n",
    "\n",
    "# Lo que esta en OPCIÓN pero lo transforma en minusculas\n",
    "materia=opcion.lower()\n",
    "\n",
    "\n",
    "if materia in (\"Español, matematicas\"):\n",
    "\tprint(\"Asignatura elegida\" + materia)\n",
    "else:\n",
    "\tprint(\"Asignatura no completa\")\n",
    "\n",
    "    \n",
    "    \n",
    "    \n"
   ]
  },
  {
   "cell_type": "markdown",
   "metadata": {},
   "source": [
    "# Condionales2"
   ]
  },
  {
   "cell_type": "code",
   "execution_count": null,
   "metadata": {
    "ExecuteTime": {
     "end_time": "2020-04-28T15:55:11.376018Z",
     "start_time": "2020-04-28T15:54:55.598Z"
    }
   },
   "outputs": [],
   "source": [
    "#Convertir lo que adentro en STRING (Texto)\n",
    "salario_presidente=int(input(\"Ingresar el salario del presidente: \"))\n",
    "print(\"salario presidente: \" + str(salario_presidente))\n",
    "\n",
    "salario_directos=int(input(\"Ingresar el salario del presidente: \"))\n",
    "print(\"salario presidente: \" + str(salario_directos))\n",
    "\n",
    "salario_jefe=int(input(\"Ingresar el salario del presidente: \"))\n",
    "print(\"salario presidente: \" + str(salario_jefe))\n",
    "\n",
    "#Evaluar los sueldos\n",
    "\n",
    "if salario_presidente<salario_directos<salario_jefe:\n",
    "\tprint(\"El salario del presidente es mayor\")\n",
    "else:\n",
    "\tprint(\"Algo no esta bien \")\n",
    "\n",
    "\n",
    "#LOWER() Minusculas\n",
    "#UPPER() Mayusculas\n",
    "\n",
    "#-----------------------------------------------------------------------------\n",
    "#EJERCIIO DE PRACTICA\n",
    "print(\"Programa de BECAS 2020\")\n",
    "distancia=int(input(\"DISTANCIA EN KM: \"))\n",
    "print(distancia)\n",
    "\n",
    "hermanos=int(input(\"CANTIDAD DE HERMANOS:  \"))\n",
    "print(hermanos)\n",
    "\n",
    "salario=int(input(\"SALARIO PROMEDIO MENSUAL \"))\n",
    "print(salario)\n",
    "\n",
    "if distancia>40 and hermanos>2 and salario<=2000:\n",
    "\tprint(\"tiene derecho a BECA\")\n",
    "else:"
   ]
  },
  {
   "cell_type": "markdown",
   "metadata": {},
   "source": [
    "# Bucles"
   ]
  },
  {
   "cell_type": "code",
   "execution_count": null,
   "metadata": {
    "ExecuteTime": {
     "end_time": "2020-04-28T15:55:11.378005Z",
     "start_time": "2020-04-28T15:54:55.601Z"
    }
   },
   "outputs": [],
   "source": [
    "#https://www.youtube.com/watch?v=D416qOEDrhI&list=PLU8oAlHdN5BlvPxziopYZRd55pdqFwkeS&index=15\n",
    "#---------------------------------------------------------------\n",
    "for i  in [1,2,3]:\n",
    "\tprint(\"Hola\")\n",
    "\n",
    "for j in [\"Pildoras\", \"Informativas\",3]:\n",
    "\tprint(\"Hola\", end=\"\") #imprimir todo en una LINEA\n",
    "\n",
    "\n",
    "#---------------------------------------------------------------\n",
    "contador=0\n",
    "miemail=input(\"Introduce tu correo: \")\n",
    "#Recorre el String para buscar el valor que estamos validando.\n",
    "for y in miemail:\n",
    "\tif(y==\"@\" or y==\".\" and y==Str(\"gmail\")):\t\n",
    "\t\t#A cada bule que siempre se cumpla la condición, incrementar la variable\n",
    "\t\tcontador=contador+1\n",
    "\n",
    "\n",
    "if contador==3:\n",
    "\tprint(\"El email es correcto\")\n",
    "else:\n",
    "\tprint(\"El email NO es Correcto\")\n",
    "\n",
    "\n",
    "#---------------------------------------------------------------\n",
    "\n",
    "valido=False\n",
    "email2=input(\"Email: \")\n",
    "\n",
    "#Len email2: Devuelve la longuitus. cuantos elementos tiene la lista\n",
    "for a in range(len(email2)):\n",
    "\tif email2[a]==\"@\":\n",
    "\t\tvalido=True\n",
    "\n",
    "if valido:\n",
    "\tprint(\"Email correcto\")\n",
    "\n",
    "else:\n",
    "\tprint(\"No es correcto\")"
   ]
  },
  {
   "cell_type": "markdown",
   "metadata": {},
   "source": [
    "# While"
   ]
  },
  {
   "cell_type": "code",
   "execution_count": null,
   "metadata": {
    "ExecuteTime": {
     "end_time": "2020-04-28T15:55:11.380995Z",
     "start_time": "2020-04-28T15:54:55.606Z"
    }
   },
   "outputs": [],
   "source": [
    "i=1\n",
    "while i<=10:\n",
    "\tprint(\"Ejecución\" + str(i))\n",
    "\ti=i+1\n",
    "print(\"Termino\")\n",
    "\n",
    "\n",
    "#---------------------------------------\n",
    "\n",
    "edad=int(input(\"Introduce la edad por favor: \"))\n",
    "while edad < 0:\n",
    "\tprint(\"La edad es menor que cero\")\n",
    "\tedad=int(input(\"Introduce la edad por favor: \"))\n",
    "print(\"Correcto\")\n",
    "print(\"La edad es : \" + str(edad))\n",
    "\n",
    "\n",
    "#---------------------------------------\n",
    "for letra in \"pyhton\":\n",
    "\tif letra==\"h\":\n",
    "\t\tcontinue\n",
    "\n",
    "\tprint(\"Viendo las letras: \" + letra)\n",
    "\n",
    "\n",
    "\n",
    "\n",
    "#---------------------------------------\n",
    "#CALCULAR LA RAIZ CUADRADA\n",
    "import math \n",
    "print(\"Introduce un numero\")\n",
    "num=int(input(\"Introduce un numero por favor: \"))\n",
    "\n",
    "intentos=0\n",
    "while  num<0:\n",
    "\tprint(\"No se puede hallar la raiz de un numero negativo\")\n",
    "\n",
    "\n",
    "\tif intentos==2:\n",
    "\t\tprint(\"Has consumido demasiados intentos, el programa a finalizado\")\n",
    "\t\t#Salir del bucle y continuar con la ejecución\n",
    "\t\tbreak;\n",
    "\n",
    "\t\tnum=int(input(\"Introduce un numero por favor: \"))\n",
    "\t\tif num<0:\n",
    "\t\t\tintentos=intentos+1\n",
    "\n",
    "if intentos<2:\n",
    "\t#Clase math: hallar la raiz cuadrada de un numero\n",
    "\tsolucion=math.sqrt(num)\n",
    "\tprint(\"La raiz es: \" + str(num)+ \"es\" + str(solucion))"
   ]
  },
  {
   "cell_type": "markdown",
   "metadata": {},
   "source": [
    "# Excepciones"
   ]
  },
  {
   "cell_type": "code",
   "execution_count": null,
   "metadata": {
    "ExecuteTime": {
     "end_time": "2020-04-28T15:55:11.382990Z",
     "start_time": "2020-04-28T15:54:55.610Z"
    }
   },
   "outputs": [],
   "source": [
    "# https://www.youtube.com/watch?v=2MaAs7XU2T0&list=PLU8oAlHdN5BlvPxziopYZRd55pdqFwkeS&index=21\n",
    "# Son errores que ocurren durante la ejecución. La sintaxis durante la ejecución del programa.\n",
    "\n",
    "#CAPTURA O CONTROL DE EXCEPCION: \n",
    "#Decirle al codigo intenta realizar la instruccion y si no puedes ejeuctate.\n",
    "#Asi es como controlamos los ERRORES.\n",
    "def suma(num1,num2):\n",
    "\treturn num1+num2\n",
    "\n",
    "def resta(num1,num2):\n",
    "\treturn num1-num2\n",
    "\n",
    "def multiplicacion(num1,num2):\n",
    "\treturn num1*num2\n",
    "\n",
    "def division(num1,num2):\n",
    "\n",
    "#------------------------------------------------------------------\n",
    "\t#Validar la formula suceptible al ERROR.\n",
    "\t#Intentar: Try\n",
    "\ttry:\n",
    "\t\treturn num1/num2\n",
    "\n",
    "\texcept ZeroDivisionError:\n",
    "\t\tprint(\"No se puede dividir en 0\")\n",
    "\t\treturn \"Operación Erronea\"\n",
    "#------------------------------------------------------------------\n",
    "while True:\n",
    "\ttry:\n",
    "\t\top1=(int(input(\"Introduce el numero1: \")))\n",
    "\t\top2=(int(input(\"Introduce el numero2: \")))\n",
    "\t\tbreak\n",
    "\n",
    "\texcept ValueError: \n",
    "\t\tprint(\"Los valores introducidos no son correctos.Intentato de nuevo\")\n",
    "\n",
    "#------------------------------------------------------------------\n",
    "\n",
    "operacion=input(\"Introduce la operación a realizar (+,-,*,/): \")\n",
    "\n",
    "if operacion==\"+\":\n",
    "\tprint(suma(op1,op2))\n",
    "elif operacion==\"*\":\n",
    "\tprint(resta(op1,op2))\n",
    "elif operacion==\"*\":\n",
    "\tprint(multiplicacion(op1,op2))\n",
    "elif operacion==\"/\":\n",
    "\tprint(division(op1,op2))\n",
    "\n",
    "else:\n",
    "\tprint(\"Operación incorrecta\")\n",
    "\n",
    "print(\"Operacion ejecutada.Continuacion de ejecucion del programa\")"
   ]
  },
  {
   "cell_type": "markdown",
   "metadata": {},
   "source": [
    "# Excepciones"
   ]
  },
  {
   "cell_type": "code",
   "execution_count": null,
   "metadata": {
    "ExecuteTime": {
     "end_time": "2020-04-28T15:55:11.383988Z",
     "start_time": "2020-04-28T15:54:55.613Z"
    }
   },
   "outputs": [],
   "source": [
    "cadena=\"\"\"Hola jefer \n",
    "como esta el día de \n",
    "hoy\"\"\"\n",
    "print(cadena)"
   ]
  },
  {
   "cell_type": "markdown",
   "metadata": {},
   "source": [
    "# Calcular la Diferencia en Días de Dos Fechas Dadas"
   ]
  },
  {
   "cell_type": "code",
   "execution_count": 8,
   "metadata": {
    "ExecuteTime": {
     "end_time": "2020-04-28T15:55:23.667576Z",
     "start_time": "2020-04-28T15:55:23.660590Z"
    }
   },
   "outputs": [
    {
     "name": "stdout",
     "output_type": "stream",
     "text": [
      "1246 days, 0:00:00\n",
      "1246\n"
     ]
    }
   ],
   "source": [
    "from datetime import date\n",
    "hoy=date(2019,9,16)\n",
    "otro_fecha=date(2023,2,13)\n",
    "calcular=otro_fecha-hoy\n",
    "print(calcular)\n",
    "print(calcular.days)\n"
   ]
  },
  {
   "cell_type": "markdown",
   "metadata": {},
   "source": [
    "# Calcular el Volumen de una Esfera a partir del Radio Dado"
   ]
  },
  {
   "cell_type": "code",
   "execution_count": 9,
   "metadata": {
    "ExecuteTime": {
     "end_time": "2020-04-28T15:55:27.845134Z",
     "start_time": "2020-04-28T15:55:26.058668Z"
    }
   },
   "outputs": [
    {
     "name": "stdout",
     "output_type": "stream",
     "text": [
      "Ingrese los datos4\n",
      "El volumen es 50.26548245743669 unidades cubicas\n"
     ]
    }
   ],
   "source": [
    "from math import pi\n",
    "r=float(input(\"Ingrese los datos\"))\n",
    "volumen=4/3*pi*r*3\n",
    "print(\"El volumen es {} unidades cubicas\".format(volumen))"
   ]
  },
  {
   "cell_type": "markdown",
   "metadata": {
    "ExecuteTime": {
     "start_time": "2020-04-28T15:47:34.048Z"
    }
   },
   "source": [
    "# Crear una Función para Evaluar un Número y Realizar una Operación"
   ]
  },
  {
   "cell_type": "code",
   "execution_count": 11,
   "metadata": {
    "ExecuteTime": {
     "end_time": "2020-04-28T15:55:45.073984Z",
     "start_time": "2020-04-28T15:55:45.069965Z"
    }
   },
   "outputs": [
    {
     "name": "stdout",
     "output_type": "stream",
     "text": [
      "12\n"
     ]
    }
   ],
   "source": [
    "def diferencia(n):\n",
    "    if n <=15:\n",
    "        return 15- n\n",
    "    else:\n",
    "        return(15-n)*2\n",
    "print(diferencia(3))\n",
    "    "
   ]
  },
  {
   "cell_type": "markdown",
   "metadata": {},
   "source": [
    "# Comprobar si un Archivo Existe"
   ]
  },
  {
   "cell_type": "code",
   "execution_count": 2,
   "metadata": {
    "ExecuteTime": {
     "end_time": "2020-04-29T12:30:32.300429Z",
     "start_time": "2020-04-29T12:30:32.293449Z"
    }
   },
   "outputs": [
    {
     "name": "stdout",
     "output_type": "stream",
     "text": [
      "False\n"
     ]
    }
   ],
   "source": [
    "import os # Este modulo tiene un submodulo subpath\n",
    "\n",
    "ruta=\"archivo.txt\"\n",
    "\n",
    "print(os.path.isfile(ruta))"
   ]
  },
  {
   "cell_type": "markdown",
   "metadata": {},
   "source": [
    "# Consultar la Funcionalidad que Provee el Módulo Incorporado math"
   ]
  },
  {
   "cell_type": "code",
   "execution_count": 4,
   "metadata": {
    "ExecuteTime": {
     "end_time": "2020-04-29T12:36:29.501278Z",
     "start_time": "2020-04-29T12:36:29.497265Z"
    }
   },
   "outputs": [
    {
     "name": "stdout",
     "output_type": "stream",
     "text": [
      "__doc__\n",
      "__loader__\n",
      "__name__\n",
      "__package__\n",
      "__spec__\n",
      "acos\n",
      "acosh\n",
      "asin\n",
      "asinh\n",
      "atan\n",
      "atan2\n",
      "atanh\n",
      "ceil\n",
      "copysign\n",
      "cos\n",
      "cosh\n",
      "degrees\n",
      "e\n",
      "erf\n",
      "erfc\n",
      "exp\n",
      "expm1\n",
      "fabs\n",
      "factorial\n",
      "floor\n",
      "fmod\n",
      "frexp\n",
      "fsum\n",
      "gamma\n",
      "gcd\n",
      "hypot\n",
      "inf\n",
      "isclose\n",
      "isfinite\n",
      "isinf\n",
      "isnan\n",
      "ldexp\n",
      "lgamma\n",
      "log\n",
      "log10\n",
      "log1p\n",
      "log2\n",
      "modf\n",
      "nan\n",
      "pi\n",
      "pow\n",
      "radians\n",
      "remainder\n",
      "sin\n",
      "sinh\n",
      "sqrt\n",
      "tan\n",
      "tanh\n",
      "tau\n",
      "trunc\n"
     ]
    }
   ],
   "source": [
    "import math\n",
    "funcionalidad=dir(math)\n",
    "print(\"\\n\".join(funcionalidad))"
   ]
  },
  {
   "cell_type": "markdown",
   "metadata": {},
   "source": [
    "# Calcular el Punto Medio de un Segmento de Recta"
   ]
  },
  {
   "cell_type": "code",
   "execution_count": 6,
   "metadata": {
    "ExecuteTime": {
     "end_time": "2020-04-29T12:44:16.583191Z",
     "start_time": "2020-04-29T12:44:16.577226Z"
    }
   },
   "outputs": [
    {
     "ename": "SyntaxError",
     "evalue": "invalid syntax (<ipython-input-6-3e869e1d9874>, line 2)",
     "output_type": "error",
     "traceback": [
      "\u001b[1;36m  File \u001b[1;32m\"<ipython-input-6-3e869e1d9874>\"\u001b[1;36m, line \u001b[1;32m2\u001b[0m\n\u001b[1;33m    def__init__(self,x,y):\u001b[0m\n\u001b[1;37m                          ^\u001b[0m\n\u001b[1;31mSyntaxError\u001b[0m\u001b[1;31m:\u001b[0m invalid syntax\n"
     ]
    }
   ],
   "source": [
    "class Punto:\n",
    "    def__init__(self,x,y):\n",
    "        self.x=x\n",
    "        self.y=y\n",
    "        \n",
    "    def__str__(self):\n",
    "        return\"({},{}).format(self.x,self.y)\n",
    "    \n",
    "def punto_medio(punto_1,punto_2):\n",
    "    x=(punto_1.x+punto_2.x)/2\n",
    "    y=(punto_1.y+punto_2.y)/2\n",
    "    \n",
    "    return Punto(x,y)\n",
    "\n",
    "punto_1=Punto(2,3)\n",
    "punto_2=Punto(-5,-7)\n",
    "\n",
    "m=punto_medio(punto_1,punto_2)"
   ]
  },
  {
   "cell_type": "markdown",
   "metadata": {},
   "source": [
    "# Crear una Función para Calcular la Desviación Estándar"
   ]
  },
  {
   "cell_type": "code",
   "execution_count": null,
   "metadata": {},
   "outputs": [],
   "source": [
    "def desviacion(valores,media):\n",
    "    "
   ]
  }
 ],
 "metadata": {
  "hide_input": false,
  "kernelspec": {
   "display_name": "Python 3",
   "language": "python",
   "name": "python3"
  },
  "language_info": {
   "codemirror_mode": {
    "name": "ipython",
    "version": 3
   },
   "file_extension": ".py",
   "mimetype": "text/x-python",
   "name": "python",
   "nbconvert_exporter": "python",
   "pygments_lexer": "ipython3",
   "version": "3.7.6"
  },
  "toc": {
   "base_numbering": 1,
   "nav_menu": {},
   "number_sections": true,
   "sideBar": true,
   "skip_h1_title": false,
   "title_cell": "Table of Contents",
   "title_sidebar": "Contents",
   "toc_cell": false,
   "toc_position": {
    "height": "calc(100% - 180px)",
    "left": "10px",
    "top": "150px",
    "width": "273.188px"
   },
   "toc_section_display": true,
   "toc_window_display": true
  },
  "varInspector": {
   "cols": {
    "lenName": 16,
    "lenType": 16,
    "lenVar": 40
   },
   "kernels_config": {
    "python": {
     "delete_cmd_postfix": "",
     "delete_cmd_prefix": "del ",
     "library": "var_list.py",
     "varRefreshCmd": "print(var_dic_list())"
    },
    "r": {
     "delete_cmd_postfix": ") ",
     "delete_cmd_prefix": "rm(",
     "library": "var_list.r",
     "varRefreshCmd": "cat(var_dic_list()) "
    }
   },
   "types_to_exclude": [
    "module",
    "function",
    "builtin_function_or_method",
    "instance",
    "_Feature"
   ],
   "window_display": false
  }
 },
 "nbformat": 4,
 "nbformat_minor": 2
}
